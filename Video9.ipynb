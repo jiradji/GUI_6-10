{
 "cells": [
  {
   "cell_type": "markdown",
   "metadata": {},
   "source": [
    "# การผูก (bind) การทำงานของ widget เข้ากับฟังก์ชัน"
   ]
  },
  {
   "cell_type": "markdown",
   "metadata": {},
   "source": [
    "    ใช้ code เดิมจาก Video การผูก (bind) การทำงานของ widget เข้ากับฟังก์ชันด้วย command"
   ]
  },
  {
   "cell_type": "markdown",
   "metadata": {},
   "source": [
    "- ใส่คำสั่ง btn_male = Button เพื่อตั้งชื่อให้ปุุ่มทำให้ Button กลายเป็น object\n",
    "btn_male = Button(root, text=\"male\", bg=\"deep sky blue\", width=8)\n",
    "- ลบ command ออกไป\n",
    "- ใส่คำสั่ง btn_male ไว้หน้า grid \n",
    "btn_male.grid(row=0,column=0,ipady=20)\n",
    "- สร้าง btn_male.bind ว่าเมื่อกดปุ่มซ้ายแล้วให้ไปเรียก def male_click() โดยที่ต้องไปกำหนด event ให้กับ def male click(e) \n",
    "btn_male.bind(\"<Button-1>\",male_click)\n",
    "    \n",
    "    เมื่อ run code แล้วจะพบว่าได้รูปแบบเดียวกับวิธีการผูก bind กับ command"
   ]
  },
  {
   "cell_type": "code",
   "execution_count": null,
   "metadata": {},
   "outputs": [],
   "source": [
    "\n",
    "from tkinter import *\n",
    "male_cnt = 0\n",
    "female_cnt = 0\n",
    "total_cnt = 0\n",
    "def male_click(e):\n",
    "    global male_cnt\n",
    "    global total_cnt\n",
    "    male_cnt += 1\n",
    "    total_cnt += 1\n",
    "    tv_male.set(male_cnt)\n",
    "    tv_total.set(f'total = {total_cnt}')\n",
    "\n",
    "def female_click(e):\n",
    "    global female_cnt\n",
    "    global total_cnt\n",
    "    female_cnt += 1\n",
    "    total_cnt += 1\n",
    "    tv_female.set(female_cnt)\n",
    "    tv_total.set(f'total = {total_cnt}')\n",
    "root = Tk()\n",
    "root.option_add(\"*Font\", \"consolas 25\")\n",
    "\n",
    "tv_male = IntVar()\n",
    "tv_female = IntVar()\n",
    "tv_total = StringVar()\n",
    "\n",
    "btn_male = Button(root, text=\"male\", bg=\"deep sky blue\", width=8)\n",
    "btn_male.grid(row=0,column=0,ipady=20)\n",
    "btn_male.bind(\"<Button-1>\", male_click)\n",
    "btn_female = Button(root, text=\"female\", bg=\"hot pink\", width=8)\n",
    "btn_female.grid(row=0,column=1,ipady=20)\n",
    "btn_female.bind(\"<Button-1>\", female_click)\n",
    "Label(root, textvariable=tv_male, bg=\"deep sky blue\").grid(row=1, column=0, sticky=\"news\")\n",
    "Label(root, textvariable=tv_female, bg=\"hot pink\").grid(row=1, column=1, sticky=\"news\")\n",
    "Label(root, textvariable=tv_total, bg=\"gold\").grid(row=2, columnspan=2, sticky=\"news\")\n",
    "root.mainloop()"
   ]
  },
  {
   "cell_type": "markdown",
   "metadata": {},
   "source": [
    "ข้อดีของการใช้ bind\n",
    "    - ฟังชันที่มีรูปแบบเหมือนกันสามารถเขียนให้อยู่ในฟังชันเดียวกันได้\n",
    "เขียนรูปแบบการลดค่าเพิ่มค่าโดยใช้ bind ผูกกับฟังก์ชัน"
   ]
  },
  {
   "cell_type": "code",
   "execution_count": 7,
   "metadata": {},
   "outputs": [],
   "source": [
    "from tkinter import *\n",
    "male_cnt = 0\n",
    "female_cnt = 0\n",
    "total_cnt = 0"
   ]
  },
  {
   "cell_type": "code",
   "execution_count": 10,
   "metadata": {},
   "outputs": [],
   "source": [
    "# ต้องการใช้ bind ในการสร้างฟังชัก์ให้อยู่่ในฟังชันเดียวกัน\n",
    "def on_click(e): # กำหนด event ที่ฟังชันก์\n",
    "    global male_cnt, female_cnt\n",
    "    global total_cnt\n",
    "    gender = e.widget[\"text\"] # กำหนด gender ที่มี event เป็นแบบตัวอักษร\n",
    "    if gender == \"male\": # กำหนดเงื่อนไขของฟังชันก์ on_click\n",
    "        male_cnt += 1\n",
    "        tv_male.set(male_cnt)\n",
    "    else:\n",
    "        female_cnt += 1\n",
    "        tv_female.set(female_cnt)\n",
    "    total_cnt += 1\n",
    "    tv_total.set(f'total = {total_cnt}')"
   ]
  },
  {
   "cell_type": "code",
   "execution_count": 11,
   "metadata": {},
   "outputs": [],
   "source": [
    "# ต้องการสร้างฟังก์ชันที่เมื่อคลิกเมาส์ขวาแล้วค่าลดลงไป 1 จึงสร้างฟังก์ชัน right_click โดยใช้ bind\n",
    "\n",
    "def right_click(e):\n",
    "    global male_cnt, female_cnt\n",
    "    global total_cnt\n",
    "    if gender == \"male\":\n",
    "        male_cnt -= 1  # เมื่อคลิกขวาแล้วลดลงไป 1\n",
    "        tv_male.set(male_cnt)\n",
    "    else:\n",
    "        female_cnt -= 1\n",
    "        tv_female.set(female_cnt)\n",
    "    total_cnt -= 1\n",
    "    tv_total.set(f'total = {total_cnt}')"
   ]
  },
  {
   "cell_type": "code",
   "execution_count": null,
   "metadata": {},
   "outputs": [],
   "source": [
    "# main\n",
    "root = Tk()\n",
    "root.option_add(\"*Font\", \"consolas 25\")\n",
    "\n",
    "tv_male = IntVar()\n",
    "tv_female = IntVar()\n",
    "tv_total = StringVar()\n",
    "\n",
    "btn_male = Button(root, text=\"male\", bg=\"deep sky blue\", width=8)\n",
    "btn_male.grid(row=0,column=0,ipady=20)\n",
    "btn_male.bind(\"<Button-1>\", on_click)\n",
    "btn_male.bind(\"<Button-3>\", right_click)\n",
    "btn_female = Button(root, text=\"female\", bg=\"hot pink\", width=8)\n",
    "btn_female.grid(row=0,column=1,ipady=20)\n",
    "btn_female.bind(\"<Button-1>\", on_click)\n",
    "btn_female.bind(\"<Button-3>\", right_click)\n",
    "Label(root, textvariable=tv_male, bg=\"deep sky blue\").grid(row=1, column=0, sticky=\"news\")\n",
    "Label(root, textvariable=tv_female, bg=\"hot pink\").grid(row=1, column=1, sticky=\"news\")\n",
    "Label(root, textvariable=tv_total, bg=\"gold\").grid(row=2, columnspan=2, sticky=\"news\")\n",
    "root.mainloop()"
   ]
  }
 ],
 "metadata": {
  "kernelspec": {
   "display_name": "Python 3",
   "language": "python",
   "name": "python3"
  },
  "language_info": {
   "codemirror_mode": {
    "name": "ipython",
    "version": 3
   },
   "file_extension": ".py",
   "mimetype": "text/x-python",
   "name": "python",
   "nbconvert_exporter": "python",
   "pygments_lexer": "ipython3",
   "version": "3.7.6"
  }
 },
 "nbformat": 4,
 "nbformat_minor": 2
}
